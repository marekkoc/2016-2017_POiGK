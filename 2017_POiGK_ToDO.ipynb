{
 "cells": [
  {
   "cell_type": "markdown",
   "metadata": {},
   "source": [
    "### Zakres materiału"
   ]
  },
  {
   "cell_type": "markdown",
   "metadata": {},
   "source": [
    "1. SNR\n",
    "1. wspomnieć o obrazach indeksowanych\n",
    "    1. operacje arytmetyczne na obrazch monochromatycznych\n",
    "        1. dodwaanie obrazów\n",
    "1. wyświetlanie wycinka obrazu (wycinanie, fancy indexing)\n",
    "    1. pokazanie dzialanie na wycinku obrazu (petle for, slicing, fancy indeksing         \n",
    "1. Grafika komputerowa\n",
    "    1. OpenGL\n",
    "        1. sześcian\n",
    "    1. Mayavi2\n",
    "        1. obraz 3D z przekrojami\n",
    "        "
   ]
  },
  {
   "cell_type": "markdown",
   "metadata": {},
   "source": [
    "### Zagadnienia"
   ]
  },
  {
   "cell_type": "markdown",
   "metadata": {},
   "source": [
    "1. Własne funkcje\n",
    "    1. funkcja do rozrostu obszaru\n",
    "    1. funkcja do zapisu obiektów graficznych do pliku STL\n",
    "1. Biblioteki   \n",
    "    1. OpenGL\n",
    "        1. funkcja stereo\n",
    "    1. Mayavi2 (Canopy)\n",
    "        1. wczytanie obrazu rastrowego 3D\n",
    "        1. wyświetlenie przekrojów\n",
    "        1. wyswietlenie izo-powierzchni\n",
    "        \n",
    "1. Projekty\n",
    "    1. dopasowanie powierzchni do nierównomiernego oświetlenia. Sami mogą robić zdjęcia obieków na stole (np. jabłek) z różnym natężeniem światła i jednym/kilkoma źródłami światła i potem dopasować powierzchnię do tego. Zastosowanie również w MRI (obrazy TOF gdzie czaska z tyłu głowy jest prześwietlona)"
   ]
  },
  {
   "cell_type": "code",
   "execution_count": 2,
   "metadata": {
    "collapsed": false
   },
   "outputs": [
    {
     "data": {
      "text/plain": [
       "iinfo(min=-128, max=127, dtype=int8)"
      ]
     },
     "execution_count": 2,
     "metadata": {},
     "output_type": "execute_result"
    }
   ],
   "source": [
    "import numpy as np\n",
    "np.iinfo('int8')"
   ]
  },
  {
   "cell_type": "code",
   "execution_count": null,
   "metadata": {
    "collapsed": true
   },
   "outputs": [],
   "source": []
  }
 ],
 "metadata": {
  "kernelspec": {
   "display_name": "Python 2",
   "language": "python",
   "name": "python2"
  },
  "language_info": {
   "codemirror_mode": {
    "name": "ipython",
    "version": 2
   },
   "file_extension": ".py",
   "mimetype": "text/x-python",
   "name": "python",
   "nbconvert_exporter": "python",
   "pygments_lexer": "ipython2",
   "version": "2.7.11"
  }
 },
 "nbformat": 4,
 "nbformat_minor": 2
}
